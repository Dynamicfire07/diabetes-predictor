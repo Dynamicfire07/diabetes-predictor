{
 "cells": [
  {
   "metadata": {},
   "cell_type": "markdown",
   "source": "# Importing Libraries",
   "id": "f296cb44d58a97f3"
  },
  {
   "metadata": {
    "ExecuteTime": {
     "end_time": "2024-06-20T13:07:09.816388Z",
     "start_time": "2024-06-20T13:07:09.810490Z"
    }
   },
   "cell_type": "code",
   "source": [
    "import pandas as pd\n",
    "import numpy as np\n",
    "import matplotlib.pyplot as plt"
   ],
   "id": "initial_id",
   "outputs": [],
   "execution_count": 22
  },
  {
   "metadata": {},
   "cell_type": "markdown",
   "source": "# Importing Dataset",
   "id": "d88755987d41fcd2"
  },
  {
   "metadata": {
    "ExecuteTime": {
     "end_time": "2024-06-20T13:07:09.889744Z",
     "start_time": "2024-06-20T13:07:09.821925Z"
    }
   },
   "cell_type": "code",
   "source": [
    "dataset = pd.read_csv('diabetes_prediction_dataset.csv')\n",
    "X = dataset.iloc[:,:-1].values\n",
    "y = dataset.iloc[:,-1].values"
   ],
   "id": "73d443d2540ab1c2",
   "outputs": [],
   "execution_count": 23
  },
  {
   "metadata": {
    "ExecuteTime": {
     "end_time": "2024-06-20T13:07:09.898100Z",
     "start_time": "2024-06-20T13:07:09.890560Z"
    }
   },
   "cell_type": "code",
   "source": "print(X)",
   "id": "479b5bf7cc3755c0",
   "outputs": [
    {
     "name": "stdout",
     "output_type": "stream",
     "text": [
      "[['Female' 80.0 0 ... 25.19 6.6 140]\n",
      " ['Female' 54.0 0 ... 27.32 6.6 80]\n",
      " ['Male' 28.0 0 ... 27.32 5.7 158]\n",
      " ...\n",
      " ['Male' 66.0 0 ... 27.83 5.7 155]\n",
      " ['Female' 24.0 0 ... 35.42 4.0 100]\n",
      " ['Female' 57.0 0 ... 22.43 6.6 90]]\n"
     ]
    }
   ],
   "execution_count": 24
  },
  {
   "metadata": {
    "ExecuteTime": {
     "end_time": "2024-06-20T13:07:09.904524Z",
     "start_time": "2024-06-20T13:07:09.901250Z"
    }
   },
   "cell_type": "code",
   "source": "print(y)",
   "id": "699c68e41bef91b2",
   "outputs": [
    {
     "name": "stdout",
     "output_type": "stream",
     "text": [
      "[0 0 0 ... 0 0 0]\n"
     ]
    }
   ],
   "execution_count": 25
  },
  {
   "metadata": {},
   "cell_type": "markdown",
   "source": "# Encoding Variables",
   "id": "bf5a23c2c96e8b62"
  },
  {
   "metadata": {
    "ExecuteTime": {
     "end_time": "2024-06-20T13:07:09.930140Z",
     "start_time": "2024-06-20T13:07:09.905439Z"
    }
   },
   "cell_type": "code",
   "source": [
    "from sklearn.preprocessing import LabelEncoder\n",
    "from sklearn.compose import ColumnTransformer\n",
    "\n",
    "le = LabelEncoder()\n",
    "dataset['smoking_history'] = le.fit_transform(dataset['smoking_history'])\n",
    "dataset['gender'] = le.fit_transform(dataset['gender'])\n",
    "\n",
    "\n",
    "X = dataset.iloc[:, :-1].values\n",
    "y = dataset.iloc[:, -1].values"
   ],
   "id": "c3913cb4d6cae31f",
   "outputs": [],
   "execution_count": 26
  },
  {
   "metadata": {
    "ExecuteTime": {
     "end_time": "2024-06-20T13:07:09.933936Z",
     "start_time": "2024-06-20T13:07:09.930861Z"
    }
   },
   "cell_type": "code",
   "source": "X",
   "id": "9a4f78e508a0d80e",
   "outputs": [
    {
     "data": {
      "text/plain": [
       "array([[  0.  ,  80.  ,   0.  , ...,  25.19,   6.6 , 140.  ],\n",
       "       [  0.  ,  54.  ,   0.  , ...,  27.32,   6.6 ,  80.  ],\n",
       "       [  1.  ,  28.  ,   0.  , ...,  27.32,   5.7 , 158.  ],\n",
       "       ...,\n",
       "       [  1.  ,  66.  ,   0.  , ...,  27.83,   5.7 , 155.  ],\n",
       "       [  0.  ,  24.  ,   0.  , ...,  35.42,   4.  , 100.  ],\n",
       "       [  0.  ,  57.  ,   0.  , ...,  22.43,   6.6 ,  90.  ]])"
      ]
     },
     "execution_count": 27,
     "metadata": {},
     "output_type": "execute_result"
    }
   ],
   "execution_count": 27
  },
  {
   "metadata": {
    "ExecuteTime": {
     "end_time": "2024-06-20T13:07:09.936135Z",
     "start_time": "2024-06-20T13:07:09.934624Z"
    }
   },
   "cell_type": "code",
   "source": "print(y)",
   "id": "29bb0efa207fb302",
   "outputs": [
    {
     "name": "stdout",
     "output_type": "stream",
     "text": [
      "[0 0 0 ... 0 0 0]\n"
     ]
    }
   ],
   "execution_count": 28
  },
  {
   "metadata": {},
   "cell_type": "markdown",
   "source": "# Splitting the dataset into Test and Training",
   "id": "9c9c8077403092e8"
  },
  {
   "metadata": {
    "ExecuteTime": {
     "end_time": "2024-06-20T13:07:09.946008Z",
     "start_time": "2024-06-20T13:07:09.936785Z"
    }
   },
   "cell_type": "code",
   "source": [
    "from sklearn.model_selection import train_test_split\n",
    "X_train, X_test, y_train, y_test = train_test_split(X, y, test_size=0.2, random_state=0)"
   ],
   "id": "99a0af9a9933570f",
   "outputs": [],
   "execution_count": 29
  },
  {
   "metadata": {},
   "cell_type": "markdown",
   "source": "# Comparing the dataset",
   "id": "e429a9e5b819aae5"
  },
  {
   "metadata": {
    "ExecuteTime": {
     "end_time": "2024-06-20T13:07:10.448640Z",
     "start_time": "2024-06-20T13:07:09.947381Z"
    }
   },
   "cell_type": "code",
   "source": [
    "from sklearn.linear_model import LogisticRegression\n",
    "logreg = LogisticRegression(random_state=0,max_iter=500)\n",
    "logreg.fit(X_train, y_train)\n",
    "y_pred_logreg = logreg.predict(X_test)\n",
    "from sklearn.metrics import accuracy_score\n",
    "print(accuracy_score(y_test,y_pred_logreg))"
   ],
   "id": "648f7cf0adcec849",
   "outputs": [
    {
     "name": "stdout",
     "output_type": "stream",
     "text": [
      "0.96055\n"
     ]
    }
   ],
   "execution_count": 30
  },
  {
   "metadata": {
    "ExecuteTime": {
     "end_time": "2024-06-20T13:12:53.907684Z",
     "start_time": "2024-06-20T13:12:53.900839Z"
    }
   },
   "cell_type": "code",
   "source": "logreg.predict([[1, 55, 1, 0,3 , 28.5, 6.8, 168]])",
   "id": "8e519c0bf619acbc",
   "outputs": [
    {
     "data": {
      "text/plain": [
       "array([1])"
      ]
     },
     "execution_count": 32,
     "metadata": {},
     "output_type": "execute_result"
    }
   ],
   "execution_count": 32
  },
  {
   "metadata": {},
   "cell_type": "code",
   "outputs": [],
   "execution_count": null,
   "source": "",
   "id": "cb87f2e09b9f4113"
  },
  {
   "metadata": {
    "ExecuteTime": {
     "end_time": "2024-06-20T13:14:04.626148Z",
     "start_time": "2024-06-20T13:14:04.601172Z"
    }
   },
   "cell_type": "code",
   "source": [
    "from sklearn.metrics import accuracy_score\n",
    "x = 100*accuracy_score(y_test,y_pred_logreg)\n",
    "print(x)"
   ],
   "id": "2cb46dde0ae6a0ae",
   "outputs": [
    {
     "name": "stdout",
     "output_type": "stream",
     "text": [
      "96.055\n"
     ]
    }
   ],
   "execution_count": 33
  },
  {
   "metadata": {
    "ExecuteTime": {
     "end_time": "2024-06-20T13:14:04.887378Z",
     "start_time": "2024-06-20T13:14:04.885711Z"
    }
   },
   "cell_type": "code",
   "source": "",
   "id": "1b6091a56594bb1a",
   "outputs": [],
   "execution_count": 33
  },
  {
   "metadata": {},
   "cell_type": "code",
   "outputs": [],
   "execution_count": null,
   "source": "",
   "id": "f9cf7dbc767c56c1"
  }
 ],
 "metadata": {
  "kernelspec": {
   "display_name": "Python 3",
   "language": "python",
   "name": "python3"
  },
  "language_info": {
   "codemirror_mode": {
    "name": "ipython",
    "version": 2
   },
   "file_extension": ".py",
   "mimetype": "text/x-python",
   "name": "python",
   "nbconvert_exporter": "python",
   "pygments_lexer": "ipython2",
   "version": "2.7.6"
  }
 },
 "nbformat": 4,
 "nbformat_minor": 5
}
